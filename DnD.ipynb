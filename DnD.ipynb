{
 "cells": [
  {
   "cell_type": "code",
   "execution_count": 124,
   "metadata": {},
   "outputs": [],
   "source": [
    "import random"
   ]
  },
  {
   "cell_type": "code",
   "execution_count": 125,
   "metadata": {},
   "outputs": [],
   "source": [
    "abilities = ['Strength', 'Dexterity', 'Consitution', 'Intelligence', 'Wisdom', 'Charisma']\n",
    "classNames = ['Barbarian', 'Bard', 'Cleric', 'Druid', 'Fighter', 'Monk', 'Paladin']\n",
    "raceNames = ['Aarakocra', 'Dwarf', 'Elf', 'Gnome', 'Halfling', 'Half-Orc', 'Human', 'Tiefling']\n",
    "armourBonuses = {'paddedArmour':11, 'leatherArmour':11, 'studdedLeatherArmour':12, 'hideArmour':12, 'chainShirt':13, 'scaleMail':14, 'halfPlate':15, 'ringMail':14, 'chainMail':16, 'splint':17, 'plate':18}\n",
    "heavyArmourBonuses = {'ringMail':14, 'chainMail':16, 'splint':17, 'plate':18}\n",
    "armourStealthDisadvs = ['paddedArmour', 'scaleMail', 'halfPlate', 'ringMail', 'chainMail', 'splint', 'plate']\n",
    "heavyArmourStrRequirements = {'chainMail':13, 'splint':15, 'plate':15}\n",
    "mediumArmourNames = ['hideArmour', 'chainShirt', 'scaleMail', 'halfPlate']\n",
    "\n",
    "\n",
    "def rollStats():\n",
    "    stat = random.sample(range(1, 6), 4)\n",
    "    return sum(stat) - min(stat)"
   ]
  },
  {
   "cell_type": "markdown",
   "metadata": {},
   "source": [
    "# Items"
   ]
  },
  {
   "cell_type": "code",
   "execution_count": 126,
   "metadata": {},
   "outputs": [],
   "source": [
    "class item: \n",
    "    pass\n",
    "\n",
    "class weapon(item):\n",
    "    def __init__(self, weaponName, damage, weaponType, damageType, properties, weaponRange):\n",
    "        self.weaponName = weaponName\n",
    "        self.damage = damage\n",
    "        self.weaponType = weaponType\n",
    "        self.damageType = damageType\n",
    "        self.properties = properties\n",
    "        self.weaponRange = weaponRange"
   ]
  },
  {
   "cell_type": "code",
   "execution_count": 127,
   "metadata": {},
   "outputs": [],
   "source": [
    "greatclub = weapon(weaponName='greatclub', damage=4, weaponType='simple', damageType='bludgeoning', properties=['light'], weaponRange=0)\n",
    "javelin = weapon(weaponName='javelin', damage=4, weaponType='simple', damageType='piercing', properties=['ranged'], weaponRange=30)\n",
    "greataxe = weapon(weaponName='greataxe', damage=12, weaponType='martial', damageType='slashing', properties=['heavy'], weaponRange=0)\n",
    "scimitar = weapon(weaponName='scimitar', damage=6, weaponType='martial', damageType='slashing', properties=['finesse', 'light'], weaponRange=0)\n",
    "shortbow = weapon(weaponName='shortbow', damage=6, weaponType='simple', damageType='piercing', properties=['ranged'], weaponRange=80)"
   ]
  },
  {
   "cell_type": "markdown",
   "metadata": {},
   "source": [
    "# Spells"
   ]
  },
  {
   "cell_type": "code",
   "execution_count": null,
   "metadata": {},
   "outputs": [],
   "source": []
  },
  {
   "cell_type": "markdown",
   "metadata": {},
   "source": [
    "# Races"
   ]
  },
  {
   "cell_type": "code",
   "execution_count": 128,
   "metadata": {},
   "outputs": [],
   "source": [
    "class playerRace:\n",
    "    def __init__(self, strengthMod, dexMod, conMod, intMod, wisMod, charMod, weaponProf, savingThrowAdvs, checkAdvs, specialTraits, resistances, speed):\n",
    "        self.strengthMod = strengthMod\n",
    "        self.dexMod = dexMod\n",
    "        self.conMod = conMod\n",
    "        self.intMod = intMod\n",
    "        self.wisMod = wisMod\n",
    "        self.charMod = charMod\n",
    "        self.weaponProf = weaponProf\n",
    "        self.savingThrowAdvs = savingThrowAdvs\n",
    "        self.checkAdvs = checkAdvs\n",
    "        self.specialTraits = specialTraits\n",
    "        self.resistances = resistances\n",
    "        self.speed = speed"
   ]
  },
  {
   "cell_type": "code",
   "execution_count": 129,
   "metadata": {},
   "outputs": [],
   "source": [
    "aarakocra = playerRace(strengthMod=0, dexMod=2, conMod=0, intMod=0, wisMod=1, charMod=0, weaponProf=[], savingThrowAdvs=['lightning', 'thunder'], checkAdvs=['perception'], specialTraits=['flight', 'talons'], resistances=[], speed=25)\n",
    "\n",
    "dwarf = playerRace(strengthMod=0, dexMod=0, conMod=2, intMod=0, wisMod=1, charMod=0, weaponProf=['battleaxe', 'handaxe', 'lightHammer', 'warhammer'], savingThrowAdvs=['poision'], checkAdvs=['history'], specialTraits=['darkvision', 'toughness'], resistances=['poision'], speed=25)\n",
    "\n",
    "elf = playerRace(strengthMod=0, dexMod=2, conMod=0, intMod=1, wisMod=0, charMod=0, weaponProf=['longsword', 'shortsword', 'shortbow', 'longbow'], savingThrowAdvs=['charmed'], checkAdvs=[], specialTraits=['darkvision', 'trance', 'feyStep'], resistances=[], speed=30)\n",
    "\n",
    "gnome = playerRace(strengthMod=0, dexMod=1, conMod=0, intMod=2, wisMod=0, charMod=0, weaponProf=[], savingThrowAdvs=['intelligence', 'wisdom', 'charisma'], checkAdvs=['stealth'], specialTraits=['darkvision'], resistances=[], speed=25)\n",
    "\n",
    "halfling = playerRace(strengthMod=0, dexMod=2, conMod=1, intMod=0, wisMod=0, charMod=0, weaponProf=[], savingThrowAdvs=['frightended', 'poison'], checkAdvs=[], specialTraits=['lucky'], resistances=['poison'], speed=25)\n",
    "\n",
    "halfOrc = playerRace(strengthMod=2, dexMod=0, conMod=1, intMod=0, wisMod=0, charMod=0, weaponProf=[], savingThrowAdvs=[], checkAdvs=['intimidation'], specialTraits=['darkvision', 'savageAttacks', 'relentlessEndurance'], resistances=[], speed=30)\n",
    "\n",
    "human = playerRace(strengthMod=1, dexMod=1, conMod=1, intMod=1, wisMod=1, charMod=1, weaponProf=[], savingThrowAdvs=[], checkAdvs=['persuasion'], specialTraits=[], resistances=[], speed=30)\n",
    "\n",
    "tiefling = playerRace(strengthMod=0, dexMod=0, conMod=0, intMod=1, wisMod=0, charMod=2, weaponProf=[], savingThrowAdvs=[], checkAdvs=[], specialTraits=['darkvision', 'infernalLegacy'], resistances=['fire'], speed=30)\n",
    "\n",
    "races = [aarakocra, dwarf, elf, gnome, halfling, halfOrc, human, tiefling]"
   ]
  },
  {
   "cell_type": "markdown",
   "metadata": {},
   "source": [
    "# Classes"
   ]
  },
  {
   "cell_type": "code",
   "execution_count": 130,
   "metadata": {},
   "outputs": [],
   "source": [
    "class playerClass:\n",
    "    def __init__(self, hitDice, armourProf, weaponProf, savingThrowProf, skillProf, abilities, startingEquipment):\n",
    "        self.hitDice = hitDice\n",
    "        self.armourProf = armourProf\n",
    "        self.weaponProf = weaponProf\n",
    "        self.savingThrowProf = savingThrowProf\n",
    "        self.skillProf = skillProf\n",
    "        self.abilities = abilities\n",
    "        self.startingEquipment = startingEquipment\n",
    "        \n",
    "#playerClass(hitDice=, armourProf=[], weaponProf=[], savingThrowProf=[], skillProf=[], abilities=[], startingEquipment=[])       "
   ]
  },
  {
   "cell_type": "code",
   "execution_count": 131,
   "metadata": {},
   "outputs": [],
   "source": [
    "barbarian = playerClass(hitDice=12, armourProf=['light', 'medium', 'shields'], weaponProf=['simple', 'martial'], savingThrowProf=['strength', 'consitution'], skillProf=['athletics', 'intimidation'], abilities=['rage', 'unarmouredDefense'], startingEquipment=[greataxe, greatclub, javelin]) \n",
    "\n",
    "bard = playerClass(hitDice=8, armourProf=['light'], weaponProf=['simple'], savingThrowProf=['dexterity', 'charisma'], skillProf=['performance', 'persuasion', 'deception'], abilities=['spellcasting', 'bardicInspiration'], startingEquipment=['rapier', 'leatherArmour', 'dagger']) \n",
    "\n",
    "cleric = playerClass(hitDice=8, armourProf=['light', 'medium', 'shields'], weaponProf=['simple'], savingThrowProf=['wisdom', 'charisma'], skillProf=['religion', 'medicine'], abilities=['spellcasting', 'divineDomain'], startingEquipment=['warhammer', 'scaleMail', 'lightCrossbow', 'shield'])\n",
    "\n",
    "druid = playerClass(hitDice=8, armourProf=['light', 'medium', 'shields'], weaponProf=['simple'], savingThrowProf=['intelligence', 'wisdom'], skillProf=['animalHandling', 'nature'], abilities=['spellcasting', 'druid'], startingEquipment=['scimitar', 'shield', 'leatherArmour']) \n",
    "\n",
    "fighter = playerClass(hitDice=10, armourProf=['light', 'medium', 'heavy', 'shields'], weaponProf=['simple', 'martial'], savingThrowProf=['strength', 'constitution'], skillProf=['survival', 'athletics'], abilities=['dueling', 'actionSurge'], startingEquipment=['leatherArmour', 'longbow', 'longsword', 'dagger'])  \n",
    "\n",
    "monk = playerClass(hitDice=8, armourProf=[], weaponProf=['simple'], savingThrowProf=['strength', 'dexterity'], skillProf=['acrobatics', 'stealth'], abilities=['unarmouredDefense', 'martialArts'], startingEquipment=['quaterstaff']) \n",
    "\n",
    "paladin = playerClass(hitDice=10, armourProf=['light', 'medium', 'heavy', 'shields'], weaponProf=['simple', 'martial'], savingThrowProf=['wisdom', 'charisma'], skillProf=['insight', 'religion'], abilities=['divineSense', 'layOnHands'], startingEquipment=['shield', 'longsword', 'chainMail']) \n",
    "\n",
    "classes = [barbarian, bard, cleric, druid, fighter, monk, paladin]\n",
    "#Add remaining classes"
   ]
  },
  {
   "cell_type": "markdown",
   "metadata": {},
   "source": [
    "# Monsters"
   ]
  },
  {
   "cell_type": "code",
   "execution_count": 132,
   "metadata": {},
   "outputs": [],
   "source": [
    "class monster:\n",
    "    def __init__(self, monsterName, ac, hp, speed, strengthMod, dexMod, conMod, intMod, wisMod, charMod, abilities, actions, fightingStyle, toHitMod):\n",
    "        self.monsterName = monsterName\n",
    "        self.ac = ac\n",
    "        self.hp = hp\n",
    "        self.speed = speed \n",
    "        self.strengthMod = strengthMod\n",
    "        self.dexMod = dexMod\n",
    "        self.conMod = conMod\n",
    "        self.intMod = intMod\n",
    "        self.wisMod = wisMod\n",
    "        self.charMod = charMod\n",
    "        self.abilities = abilities\n",
    "        self.actions = actions\n",
    "        self.fightingStyle = fightingStyle\n",
    "        self.toHitMod = toHitMod\n",
    "        #self.distanceFromPlayer = random.randint(1,10) * 10\n",
    "        self.distanceFromPlayer = 300\n",
    "        \n",
    "    def attack(self, weapon, weaponRange, disadvantage):\n",
    "        if weaponRange == 0:\n",
    "            toHit = random.randint(1,20) + self.toHitMod\n",
    "            if toHit < 15:\n",
    "                print(\"The {} strikes you with its {} and misses.\".format(self.monsterName, weapon.weaponName))\n",
    "            else:\n",
    "                damage = random.randint(1,weapon.damage) + 2 #replace with modifer\n",
    "                print(\"The {} strikes you with its {} and deals {} {} damage.\".format(self.monsterName, weapon.weaponName, damage, weapon.damageType))\n",
    "        else:\n",
    "            if disadvantage == 0:\n",
    "                toHit = random.randint(1,20) + self.toHitMod\n",
    "                if toHit < 15:\n",
    "                    print(\"The {} shoots you with its {} and misses.\".format(self.monsterName, weapon.weaponName))\n",
    "                else:\n",
    "                    damage = random.randint(1,weapon.damage) + 2 #replace with modifer\n",
    "                    print(\"The {} shoots you with its {} and deals {} {} damage.\".format(self.monsterName, weapon.weaponName, damage, weapon.damageType))\n",
    "            else:\n",
    "                toHit = min(random.randint(1,20) + self.toHitMod,random.randint(1,20) + self.toHitMod)\n",
    "                if toHit < 15:\n",
    "                    print(\"The {} shoots you with its {} and misses.\".format(self.monsterName, weapon.weaponName))\n",
    "                else:\n",
    "                    damage = random.randint(1,weapon.damage) + 2 #replace with modifer\n",
    "                    print(\"The {} shoots you with its {} and deals {} {} damage.\".format(self.monsterName, weapon.weaponName, damage, weapon.damageType))\n",
    "                \n",
    "    \n",
    "    def takeTurn(self):\n",
    "        if self.fightingStyle == 'rangeBased':\n",
    "            if self.distanceFromPlayer == 0 or self.distanceFromPlayer - self.speed <= 0:\n",
    "                if self.distanceFromPlayer != 0: print(\"The {} moves {}ft towards you.\".format(self.monsterName, self.distanceFromPlayer)) \n",
    "                self.distanceFromPlayer = 0\n",
    "                print(\"The distance between you and the {} is 0ft. You are engaged in melee combat.\".format(self.monsterName))\n",
    "                self.attack(self.actions[0][0],0,0)\n",
    "            elif self.distanceFromPlayer <= self.actions[1][1] or self.distanceFromPlayer - self.speed <= self.actions[1][1]:\n",
    "                if not self.distanceFromPlayer <= self.actions[1][1]: print(\"The {} moves {}ft towards you.\".format(self.monsterName, self.distanceFromPlayer-self.actions[1][1]))\n",
    "                self.distanceFromPlayer = self.actions[1][1]\n",
    "                print(\"The distance between you and the {} is {}ft.\".format(self.monsterName, self.distanceFromPlayer))\n",
    "                self.attack(self.actions[1][0],self.actions[1][1],0)\n",
    "            else:\n",
    "                print(\"The {} moves {}ft towards you.\".format(self.monsterName, self.speed))\n",
    "                self.distanceFromPlayer -= self.speed\n",
    "                print(\"The distance between you and the {} is {}ft.\".format(self.monsterName, self.distanceFromPlayer))\n",
    "                self.attack(self.actions[1][0],self.actions[1][1],1)\n",
    "        self.bonusAction()\n",
    "    \n",
    "    def bonusAction(self):\n",
    "        pass"
   ]
  },
  {
   "cell_type": "code",
   "execution_count": 133,
   "metadata": {},
   "outputs": [],
   "source": [
    "goblin = monster(monsterName=\"goblin\", ac=15, hp=7, speed=30, strengthMod=-1, dexMod=2, conMod=0, intMod=0, wisMod=-1, charMod=-1, abilities=[], actions=[[scimitar],[shortbow,20,20]], fightingStyle='rangeBased', toHitMod=4)"
   ]
  },
  {
   "cell_type": "markdown",
   "metadata": {},
   "source": [
    "# Player character generation"
   ]
  },
  {
   "cell_type": "code",
   "execution_count": 157,
   "metadata": {
    "scrolled": true
   },
   "outputs": [],
   "source": [
    "class player:\n",
    "    def __init__(self, name, raceName, className, strength, dex, con, intel, wis, char, weaponProf, armourProf, savingThrowProf, skillProf, abilities, savingThrowAdvs, checkAdvs, resistances, equipment, raceChoice, classChoice, speed):\n",
    "        self.name = name\n",
    "        self.raceName = raceName\n",
    "        self.className = className\n",
    "        self.strength = strength \n",
    "        self.dex = dex\n",
    "        self.con = con\n",
    "        self.intel = intel\n",
    "        self.wis = wis\n",
    "        self.char = char\n",
    "        self.strengthMod = (strength-10)//2\n",
    "        self.dexMod = (dex-10)//2\n",
    "        self.conMod = (con-10)//2\n",
    "        self.intMod = (intel-10)//2\n",
    "        self.wisMod = (wis-10)//2\n",
    "        self.charMod = (char-10)//2\n",
    "        self.weaponProf = weaponProf\n",
    "        self.armourProf = armourProf\n",
    "        self.savingThrowProf = savingThrowProf\n",
    "        self.skillProf = skillProf\n",
    "        self.abilities = abilities\n",
    "        self.savingThrowAdvs = savingThrowAdvs\n",
    "        self.checkAdvs = checkAdvs\n",
    "        self.checkDisadvs = []\n",
    "        self.resistances = resistances\n",
    "        self.equipment = equipment\n",
    "        self.raceChoice = raceChoice\n",
    "        self.classChoice = classChoice\n",
    "        self.speed = speed\n",
    "        self.hp = self.classChoice.hitDice + self.conMod\n",
    "        self.ac = 0\n",
    "        self.ac = self.getAC()\n",
    "        self.profBonus = 2\n",
    "        self.stats = [self.strength, self.dex, self.con, self.intel, self.wis, self.char]\n",
    "        self.statsMods = [self.strengthMod, self.dexMod, self.conMod, self.intMod, self.wisMod, self.charMod]\n",
    "        self.display()\n",
    "    \n",
    "    def getAC(self):\n",
    "        for gear in self.equipment:\n",
    "            if gear in armourBonuses.keys():\n",
    "                if gear in mediumArmourNames:\n",
    "                    self.ac = armourBonuses[gear] + min(2, self.dexMod)\n",
    "                elif gear in heavyArmourBonuses.keys():\n",
    "                    self.ac = heavyArmourBonuses[gear]\n",
    "                else:\n",
    "                    self.ac = armourBonuses[gear] + self.dexMod\n",
    "                if gear in armourStealthDisadvs:\n",
    "                    self.checkDisadvs.append('stealth')      \n",
    "                if gear in heavyArmourStrRequirements.keys():\n",
    "                    if self.strength < heavyArmourStrRequirements[gear]:\n",
    "                        if self.raceName != 'Dwarf': self.speed = self.speed - 10 \n",
    "        if self.ac == 0: self.ac = 10 + self.dexMod\n",
    "        if 'shield' in self.equipment:\n",
    "            self.ac = self.ac + 2\n",
    "            \n",
    "        return self.ac\n",
    "            \n",
    "    \n",
    "    def display(self):\n",
    "        print(\"\\n\")\n",
    "        print(\"Name: {}\".format(self.name))\n",
    "        print(\"Race: {}\".format(self.raceName))\n",
    "        print(\"Class: {}\".format(self.className))\n",
    "        [print(\"{}: {}({:+})\".format(abilities[i], self.stats[i], self.statsMods[i])) for i in range(len(abilities))]\n",
    "        print(\"Hit Points: {}\".format(self.hp))\n",
    "        print(\"Armour Class: {}\".format(self.ac))\n",
    "        print(\"Speed: {}ft\".format(self.speed))\n",
    "        print(\"Proficiency Bonus: {:+}\".format(self.profBonus))\n",
    "        \n",
    "    def takeDamage(self, damage, damageType):\n",
    "        if damageType in self.resistances:\n",
    "            self.hp = self.hp - damage//2\n",
    "            print(\"You are resistant to {} damage so you only take {} damage.\".format(damageType, damage//2))\n",
    "            #Death Saves\n",
    "        else:\n",
    "            self.hp = self.hp - damage\n",
    "            print(\"You take full damage and is now down to {}HP\".format(self.hp))\n",
    "            #self.checkDeath()"
   ]
  },
  {
   "cell_type": "code",
   "execution_count": 158,
   "metadata": {
    "scrolled": true
   },
   "outputs": [],
   "source": [
    "def makeCharacter():\n",
    "    nameChoice = input(\"Please enter your character's name: \").capitalize()\n",
    "    print(\"\\n\")\n",
    "    raceChoiceI = int(input(\"Please pick a race: \\n (1) - Aarakocra \\n (2) - Dwarf \\n (3) - Elf \\n (4) - Gnome \\n (5) - Halfling \\n (6) - Half-Orc \\n (7) - Human \\n (8) - Tiefling \\n\")) - 1\n",
    "    print(\"\\n\")\n",
    "    classChoiceI = int(input(\"Please pick a class: \\n (1) - Barbarian \\n (2) - Bard \\n (3) - Cleric \\n (4) - Druid \\n (5) - Fighter \\n (6) - Monk \\n (7) - Paladin \\n\")) - 1\n",
    "    classChoice = classes[classChoiceI]\n",
    "    raceChoice = races[raceChoiceI]\n",
    "    playerCharacter = player(\n",
    "name = nameChoice,\n",
    "raceName = raceNames[raceChoiceI],\n",
    "className = classNames[classChoiceI],\n",
    "strength = rollStats() + raceChoice.strengthMod,\n",
    "dex = rollStats() + raceChoice.dexMod,\n",
    "con = rollStats() + raceChoice.conMod,\n",
    "intel = rollStats() + raceChoice.intMod,\n",
    "wis = rollStats() + raceChoice.wisMod,\n",
    "char = rollStats() + raceChoice.charMod, \n",
    "weaponProf = list(set(classChoice.weaponProf) | set(raceChoice.weaponProf)),\n",
    "armourProf = classChoice.armourProf,\n",
    "savingThrowProf = classChoice.savingThrowProf,\n",
    "skillProf = classChoice.skillProf,\n",
    "abilities = list(set(classChoice.abilities) | set(raceChoice.specialTraits)), savingThrowAdvs = raceChoice.savingThrowAdvs,\n",
    "checkAdvs = raceChoice.checkAdvs, \n",
    "resistances = raceChoice.resistances,\n",
    "equipment = classChoice.startingEquipment,\n",
    "raceChoice = raceChoice,\n",
    "classChoice = classChoice, \n",
    "speed = raceChoice.speed)\n",
    "    return playerCharacter"
   ]
  },
  {
   "cell_type": "code",
   "execution_count": 159,
   "metadata": {},
   "outputs": [],
   "source": [
    "def main():\n",
    "    character = makeCharacter()"
   ]
  },
  {
   "cell_type": "code",
   "execution_count": 160,
   "metadata": {
    "scrolled": false
   },
   "outputs": [
    {
     "name": "stdout",
     "output_type": "stream",
     "text": [
      "Please enter your character's name: bruh\n",
      "\n",
      "\n",
      "Please pick a race: \n",
      " (1) - Aarakocra \n",
      " (2) - Dwarf \n",
      " (3) - Elf \n",
      " (4) - Gnome \n",
      " (5) - Halfling \n",
      " (6) - Half-Orc \n",
      " (7) - Human \n",
      " (8) - Tiefling \n",
      "1\n",
      "\n",
      "\n",
      "Please pick a class: \n",
      " (1) - Barbarian \n",
      " (2) - Bard \n",
      " (3) - Cleric \n",
      " (4) - Druid \n",
      " (5) - Fighter \n",
      " (6) - Monk \n",
      " (7) - Paladin \n",
      "7\n",
      "\n",
      "\n",
      "Name: Bruh\n",
      "Race: Aarakocra\n",
      "Class: Paladin\n",
      "Strength: 10(+0)\n",
      "Dexterity: 12(+1)\n",
      "Consitution: 9(-1)\n",
      "Intelligence: 12(+1)\n",
      "Wisdom: 10(+0)\n",
      "Charisma: 9(-1)\n",
      "Hit Points: 9\n",
      "Armour Class: 18\n",
      "Speed: 15ft\n",
      "Proficiency Bonus: +2\n",
      "['shield', 'longsword', 'chainMail']\n"
     ]
    }
   ],
   "source": [
    "main()"
   ]
  }
 ],
 "metadata": {
  "kernelspec": {
   "display_name": "Python 3",
   "language": "python",
   "name": "python3"
  },
  "language_info": {
   "codemirror_mode": {
    "name": "ipython",
    "version": 3
   },
   "file_extension": ".py",
   "mimetype": "text/x-python",
   "name": "python",
   "nbconvert_exporter": "python",
   "pygments_lexer": "ipython3",
   "version": "3.7.3"
  }
 },
 "nbformat": 4,
 "nbformat_minor": 2
}
